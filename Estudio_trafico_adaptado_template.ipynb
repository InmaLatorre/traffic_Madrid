{
 "cells": [
  {
   "cell_type": "markdown",
   "metadata": {},
   "source": [
    "## Estudio del tráfico en el área urbana de Madrid"
   ]
  },
  {
   "cell_type": "code",
   "execution_count": 1,
   "metadata": {},
   "outputs": [],
   "source": [
    "import pandas as pd\n",
    "import math\n",
    "from datetime import datetime"
   ]
  },
  {
   "cell_type": "markdown",
   "metadata": {},
   "source": [
    "### Carga de los datos descargados de la página de datos abiertos del Ayuntamiento de Madrid"
   ]
  },
  {
   "cell_type": "markdown",
   "metadata": {},
   "source": [
    "Los datos se actualizan de manera mensual. Vienen en archivos _.csv_ de entre 600MB y 800MB aproximadamente."
   ]
  },
  {
   "cell_type": "code",
   "execution_count": 3,
   "metadata": {},
   "outputs": [
    {
     "data": {
      "text/html": [
       "<div>\n",
       "<style scoped>\n",
       "    .dataframe tbody tr th:only-of-type {\n",
       "        vertical-align: middle;\n",
       "    }\n",
       "\n",
       "    .dataframe tbody tr th {\n",
       "        vertical-align: top;\n",
       "    }\n",
       "\n",
       "    .dataframe thead th {\n",
       "        text-align: right;\n",
       "    }\n",
       "</style>\n",
       "<table border=\"1\" class=\"dataframe\">\n",
       "  <thead>\n",
       "    <tr style=\"text-align: right;\">\n",
       "      <th></th>\n",
       "      <th>id</th>\n",
       "      <th>fecha</th>\n",
       "      <th>tipo_elem</th>\n",
       "      <th>intensidad</th>\n",
       "      <th>ocupacion</th>\n",
       "      <th>carga</th>\n",
       "      <th>vmed</th>\n",
       "      <th>error</th>\n",
       "      <th>periodo_integracion</th>\n",
       "    </tr>\n",
       "  </thead>\n",
       "  <tbody>\n",
       "    <tr>\n",
       "      <td>0</td>\n",
       "      <td>1001</td>\n",
       "      <td>2019-11-01 00:00:00</td>\n",
       "      <td>M30</td>\n",
       "      <td>1320</td>\n",
       "      <td>3.0</td>\n",
       "      <td>0</td>\n",
       "      <td>50.0</td>\n",
       "      <td>N</td>\n",
       "      <td>5</td>\n",
       "    </tr>\n",
       "    <tr>\n",
       "      <td>1</td>\n",
       "      <td>1001</td>\n",
       "      <td>2019-11-01 00:15:00</td>\n",
       "      <td>M30</td>\n",
       "      <td>1260</td>\n",
       "      <td>3.0</td>\n",
       "      <td>0</td>\n",
       "      <td>54.0</td>\n",
       "      <td>N</td>\n",
       "      <td>5</td>\n",
       "    </tr>\n",
       "    <tr>\n",
       "      <td>2</td>\n",
       "      <td>1001</td>\n",
       "      <td>2019-11-01 00:30:00</td>\n",
       "      <td>M30</td>\n",
       "      <td>948</td>\n",
       "      <td>3.0</td>\n",
       "      <td>0</td>\n",
       "      <td>56.0</td>\n",
       "      <td>N</td>\n",
       "      <td>5</td>\n",
       "    </tr>\n",
       "    <tr>\n",
       "      <td>3</td>\n",
       "      <td>1001</td>\n",
       "      <td>2019-11-01 00:45:00</td>\n",
       "      <td>M30</td>\n",
       "      <td>888</td>\n",
       "      <td>3.0</td>\n",
       "      <td>0</td>\n",
       "      <td>59.0</td>\n",
       "      <td>N</td>\n",
       "      <td>5</td>\n",
       "    </tr>\n",
       "    <tr>\n",
       "      <td>4</td>\n",
       "      <td>1001</td>\n",
       "      <td>2019-11-01 01:00:00</td>\n",
       "      <td>M30</td>\n",
       "      <td>972</td>\n",
       "      <td>3.0</td>\n",
       "      <td>0</td>\n",
       "      <td>59.0</td>\n",
       "      <td>N</td>\n",
       "      <td>5</td>\n",
       "    </tr>\n",
       "  </tbody>\n",
       "</table>\n",
       "</div>"
      ],
      "text/plain": [
       "     id                fecha tipo_elem  intensidad  ocupacion  carga  vmed  \\\n",
       "0  1001  2019-11-01 00:00:00       M30        1320        3.0      0  50.0   \n",
       "1  1001  2019-11-01 00:15:00       M30        1260        3.0      0  54.0   \n",
       "2  1001  2019-11-01 00:30:00       M30         948        3.0      0  56.0   \n",
       "3  1001  2019-11-01 00:45:00       M30         888        3.0      0  59.0   \n",
       "4  1001  2019-11-01 01:00:00       M30         972        3.0      0  59.0   \n",
       "\n",
       "  error  periodo_integracion  \n",
       "0     N                    5  \n",
       "1     N                    5  \n",
       "2     N                    5  \n",
       "3     N                    5  \n",
       "4     N                    5  "
      ]
     },
     "execution_count": 3,
     "metadata": {},
     "output_type": "execute_result"
    }
   ],
   "source": [
    "#Importar CSV de los datos de tráfico de un mes. En este caso, Nov19. \n",
    "##Peso:667.8MB##\n",
    "trf1911 = pd.read_csv(\"11-2019.csv\", sep = \";\", header = \"infer\", encoding='iso-8859-1')\n",
    "\n",
    "trf1911.head()"
   ]
  },
  {
   "cell_type": "code",
   "execution_count": 22,
   "metadata": {},
   "outputs": [
    {
     "data": {
      "text/plain": [
       "(11186837, 9)"
      ]
     },
     "execution_count": 22,
     "metadata": {},
     "output_type": "execute_result"
    }
   ],
   "source": [
    "#Dimensiones: 11.2M filas, 9 columnas\n",
    "trf1911.shape"
   ]
  },
  {
   "cell_type": "markdown",
   "metadata": {},
   "source": [
    "### Selección de datos últiles"
   ]
  },
  {
   "cell_type": "markdown",
   "metadata": {},
   "source": [
    "Se elimina aquello superfluo ya que: (i) será más fácil de tratar y (ii) funcionará más rápido al ser más ligero"
   ]
  },
  {
   "cell_type": "markdown",
   "metadata": {},
   "source": [
    "Se seleccionan las siguientes columnas:\n",
    "- **id:** indenticador único de la estación de medida de tráfico (existen cerca de 4.000 actualmente)\n",
    "- **fecha:** momento en de la medida, en intervalos de 15'\n",
    "- **tipo_elem:** si se trata de área urbana (URB) o suburbana (M30)\n",
    "- **intensidad:** vehículos/hora. Valores negativos implica ausencia de datos"
   ]
  },
  {
   "cell_type": "code",
   "execution_count": 4,
   "metadata": {},
   "outputs": [
    {
     "data": {
      "text/html": [
       "<div>\n",
       "<style scoped>\n",
       "    .dataframe tbody tr th:only-of-type {\n",
       "        vertical-align: middle;\n",
       "    }\n",
       "\n",
       "    .dataframe tbody tr th {\n",
       "        vertical-align: top;\n",
       "    }\n",
       "\n",
       "    .dataframe thead th {\n",
       "        text-align: right;\n",
       "    }\n",
       "</style>\n",
       "<table border=\"1\" class=\"dataframe\">\n",
       "  <thead>\n",
       "    <tr style=\"text-align: right;\">\n",
       "      <th></th>\n",
       "      <th>station_id</th>\n",
       "      <th>fecha</th>\n",
       "      <th>magnitud_id</th>\n",
       "      <th>value</th>\n",
       "    </tr>\n",
       "  </thead>\n",
       "  <tbody>\n",
       "    <tr>\n",
       "      <td>133738</td>\n",
       "      <td>3395</td>\n",
       "      <td>2019-11-01 00:00:00</td>\n",
       "      <td>52</td>\n",
       "      <td>216</td>\n",
       "    </tr>\n",
       "    <tr>\n",
       "      <td>133739</td>\n",
       "      <td>3395</td>\n",
       "      <td>2019-11-01 00:15:00</td>\n",
       "      <td>52</td>\n",
       "      <td>228</td>\n",
       "    </tr>\n",
       "    <tr>\n",
       "      <td>133740</td>\n",
       "      <td>3395</td>\n",
       "      <td>2019-11-01 00:30:00</td>\n",
       "      <td>52</td>\n",
       "      <td>227</td>\n",
       "    </tr>\n",
       "    <tr>\n",
       "      <td>133741</td>\n",
       "      <td>3395</td>\n",
       "      <td>2019-11-01 00:45:00</td>\n",
       "      <td>52</td>\n",
       "      <td>248</td>\n",
       "    </tr>\n",
       "    <tr>\n",
       "      <td>133742</td>\n",
       "      <td>3395</td>\n",
       "      <td>2019-11-01 01:00:00</td>\n",
       "      <td>52</td>\n",
       "      <td>220</td>\n",
       "    </tr>\n",
       "  </tbody>\n",
       "</table>\n",
       "</div>"
      ],
      "text/plain": [
       "        station_id                fecha  magnitud_id  value\n",
       "133738        3395  2019-11-01 00:00:00           52    216\n",
       "133739        3395  2019-11-01 00:15:00           52    228\n",
       "133740        3395  2019-11-01 00:30:00           52    227\n",
       "133741        3395  2019-11-01 00:45:00           52    248\n",
       "133742        3395  2019-11-01 01:00:00           52    220"
      ]
     },
     "execution_count": 4,
     "metadata": {},
     "output_type": "execute_result"
    }
   ],
   "source": [
    "#Seleccionar las columnas que son de utilidad para el estudio\n",
    "trf1911_filtrado = trf1911[[\"id\", \"fecha\", \"tipo_elem\",'intensidad']]\n",
    "trf1911_filtrado.columns = [\"station_id\", \"fecha\", \"magnitud_id\",'value']\n",
    "\n",
    "#Filtrar URB, el área de estudio\n",
    "trf1911_filtrado = trf1911_filtrado[(trf1911_filtrado[\"magnitud_id\"] == \"URB\")]\n",
    "\n",
    "#Asignar una magnitud_id numérica \n",
    "#para que el objeto sea del tipo que requiere el evento del esquema estrella de DB\n",
    "#**Este paso se realiza al pertenecer a un proyecto más grande. No requerido en otro contexto**#\n",
    "trf1911_filtrado.magnitud_id = trf1911_filtrado.magnitud_id.replace({\"URB\": 52})\n",
    "\n",
    "trf1911_filtrado.head()"
   ]
  },
  {
   "cell_type": "code",
   "execution_count": 5,
   "metadata": {},
   "outputs": [
    {
     "data": {
      "text/plain": [
       "(10007056, 4)"
      ]
     },
     "execution_count": 5,
     "metadata": {},
     "output_type": "execute_result"
    }
   ],
   "source": [
    "#Dimensiones: 10M filas, 4 columnas\n",
    "trf1911_filtrado.shape"
   ]
  },
  {
   "cell_type": "markdown",
   "metadata": {},
   "source": [
    "### Dividir la columna _fecha_ por día y hora para poder trabajar con ello"
   ]
  },
  {
   "cell_type": "code",
   "execution_count": 6,
   "metadata": {},
   "outputs": [
    {
     "data": {
      "text/html": [
       "<div>\n",
       "<style scoped>\n",
       "    .dataframe tbody tr th:only-of-type {\n",
       "        vertical-align: middle;\n",
       "    }\n",
       "\n",
       "    .dataframe tbody tr th {\n",
       "        vertical-align: top;\n",
       "    }\n",
       "\n",
       "    .dataframe thead th {\n",
       "        text-align: right;\n",
       "    }\n",
       "</style>\n",
       "<table border=\"1\" class=\"dataframe\">\n",
       "  <thead>\n",
       "    <tr style=\"text-align: right;\">\n",
       "      <th></th>\n",
       "      <th>station_id</th>\n",
       "      <th>fecha</th>\n",
       "      <th>magnitud_id</th>\n",
       "      <th>value</th>\n",
       "      <th>day_id</th>\n",
       "      <th>time_id</th>\n",
       "    </tr>\n",
       "  </thead>\n",
       "  <tbody>\n",
       "    <tr>\n",
       "      <td>133738</td>\n",
       "      <td>3395</td>\n",
       "      <td>2019-11-01 00:00:00</td>\n",
       "      <td>52</td>\n",
       "      <td>216</td>\n",
       "      <td>2019-11-01</td>\n",
       "      <td>0</td>\n",
       "    </tr>\n",
       "    <tr>\n",
       "      <td>133739</td>\n",
       "      <td>3395</td>\n",
       "      <td>2019-11-01 00:15:00</td>\n",
       "      <td>52</td>\n",
       "      <td>228</td>\n",
       "      <td>2019-11-01</td>\n",
       "      <td>0</td>\n",
       "    </tr>\n",
       "    <tr>\n",
       "      <td>133740</td>\n",
       "      <td>3395</td>\n",
       "      <td>2019-11-01 00:30:00</td>\n",
       "      <td>52</td>\n",
       "      <td>227</td>\n",
       "      <td>2019-11-01</td>\n",
       "      <td>0</td>\n",
       "    </tr>\n",
       "    <tr>\n",
       "      <td>133741</td>\n",
       "      <td>3395</td>\n",
       "      <td>2019-11-01 00:45:00</td>\n",
       "      <td>52</td>\n",
       "      <td>248</td>\n",
       "      <td>2019-11-01</td>\n",
       "      <td>0</td>\n",
       "    </tr>\n",
       "    <tr>\n",
       "      <td>133742</td>\n",
       "      <td>3395</td>\n",
       "      <td>2019-11-01 01:00:00</td>\n",
       "      <td>52</td>\n",
       "      <td>220</td>\n",
       "      <td>2019-11-01</td>\n",
       "      <td>1</td>\n",
       "    </tr>\n",
       "  </tbody>\n",
       "</table>\n",
       "</div>"
      ],
      "text/plain": [
       "        station_id               fecha  magnitud_id  value      day_id  \\\n",
       "133738        3395 2019-11-01 00:00:00           52    216  2019-11-01   \n",
       "133739        3395 2019-11-01 00:15:00           52    228  2019-11-01   \n",
       "133740        3395 2019-11-01 00:30:00           52    227  2019-11-01   \n",
       "133741        3395 2019-11-01 00:45:00           52    248  2019-11-01   \n",
       "133742        3395 2019-11-01 01:00:00           52    220  2019-11-01   \n",
       "\n",
       "        time_id  \n",
       "133738        0  \n",
       "133739        0  \n",
       "133740        0  \n",
       "133741        0  \n",
       "133742        1  "
      ]
     },
     "execution_count": 6,
     "metadata": {},
     "output_type": "execute_result"
    }
   ],
   "source": [
    "#Pasar de objeto a formato fecha\n",
    "trf1911_filtrado['fecha'] = pd.to_datetime(trf1911_filtrado['fecha'])\n",
    "\n",
    "#Añadir columnas separando la fecha y hora para poder trabajar con ello\n",
    "trf1911_filtrado['day_id'] = trf1911_filtrado['fecha'].dt.date\n",
    "trf1911_filtrado['time_id'] = trf1911_filtrado['fecha'].dt.hour\n",
    "\n",
    "trf1911_filtrado.head()"
   ]
  },
  {
   "cell_type": "code",
   "execution_count": 7,
   "metadata": {},
   "outputs": [
    {
     "data": {
      "text/html": [
       "<div>\n",
       "<style scoped>\n",
       "    .dataframe tbody tr th:only-of-type {\n",
       "        vertical-align: middle;\n",
       "    }\n",
       "\n",
       "    .dataframe tbody tr th {\n",
       "        vertical-align: top;\n",
       "    }\n",
       "\n",
       "    .dataframe thead th {\n",
       "        text-align: right;\n",
       "    }\n",
       "</style>\n",
       "<table border=\"1\" class=\"dataframe\">\n",
       "  <thead>\n",
       "    <tr style=\"text-align: right;\">\n",
       "      <th></th>\n",
       "      <th>station_id</th>\n",
       "      <th>fecha</th>\n",
       "      <th>magnitud_id</th>\n",
       "      <th>value</th>\n",
       "      <th>day_id</th>\n",
       "      <th>time_id</th>\n",
       "    </tr>\n",
       "  </thead>\n",
       "  <tbody>\n",
       "    <tr>\n",
       "      <td>133738</td>\n",
       "      <td>3395</td>\n",
       "      <td>2019-11-01 00:00:00</td>\n",
       "      <td>52</td>\n",
       "      <td>216</td>\n",
       "      <td>20191101</td>\n",
       "      <td>0</td>\n",
       "    </tr>\n",
       "    <tr>\n",
       "      <td>133739</td>\n",
       "      <td>3395</td>\n",
       "      <td>2019-11-01 00:15:00</td>\n",
       "      <td>52</td>\n",
       "      <td>228</td>\n",
       "      <td>20191101</td>\n",
       "      <td>0</td>\n",
       "    </tr>\n",
       "    <tr>\n",
       "      <td>133740</td>\n",
       "      <td>3395</td>\n",
       "      <td>2019-11-01 00:30:00</td>\n",
       "      <td>52</td>\n",
       "      <td>227</td>\n",
       "      <td>20191101</td>\n",
       "      <td>0</td>\n",
       "    </tr>\n",
       "    <tr>\n",
       "      <td>133741</td>\n",
       "      <td>3395</td>\n",
       "      <td>2019-11-01 00:45:00</td>\n",
       "      <td>52</td>\n",
       "      <td>248</td>\n",
       "      <td>20191101</td>\n",
       "      <td>0</td>\n",
       "    </tr>\n",
       "    <tr>\n",
       "      <td>133742</td>\n",
       "      <td>3395</td>\n",
       "      <td>2019-11-01 01:00:00</td>\n",
       "      <td>52</td>\n",
       "      <td>220</td>\n",
       "      <td>20191101</td>\n",
       "      <td>1</td>\n",
       "    </tr>\n",
       "  </tbody>\n",
       "</table>\n",
       "</div>"
      ],
      "text/plain": [
       "        station_id               fecha  magnitud_id  value    day_id  time_id\n",
       "133738        3395 2019-11-01 00:00:00           52    216  20191101        0\n",
       "133739        3395 2019-11-01 00:15:00           52    228  20191101        0\n",
       "133740        3395 2019-11-01 00:30:00           52    227  20191101        0\n",
       "133741        3395 2019-11-01 00:45:00           52    248  20191101        0\n",
       "133742        3395 2019-11-01 01:00:00           52    220  20191101        1"
      ]
     },
     "execution_count": 7,
     "metadata": {},
     "output_type": "execute_result"
    }
   ],
   "source": [
    "##Quitar los guiones de la fecha para adaptarlo a la DB##\n",
    "#**Este paso se realiza al pertenecer a un proyecto más grande. No requerido en otro contexto**#\n",
    "#Es lento en ejecución#\n",
    "\n",
    "trf1911_filtrado = trf1911_filtrado.astype({'day_id': 'str'})\n",
    "trf1911_filtrado['day_id'] = trf1911_filtrado.apply(lambda row: row.day_id.replace('-', ''), axis=1)\n",
    "trf1911_filtrado.head()"
   ]
  },
  {
   "cell_type": "code",
   "execution_count": 8,
   "metadata": {},
   "outputs": [
    {
     "data": {
      "text/plain": [
       "(10007056, 6)"
      ]
     },
     "execution_count": 8,
     "metadata": {},
     "output_type": "execute_result"
    }
   ],
   "source": [
    "#Dimensiones: 10M filas, 6 columnas\n",
    "trf1911_filtrado.shape"
   ]
  },
  {
   "cell_type": "markdown",
   "metadata": {},
   "source": [
    "### Agrupar los datos por horas de cara a un futuro análisis"
   ]
  },
  {
   "cell_type": "code",
   "execution_count": 9,
   "metadata": {},
   "outputs": [
    {
     "data": {
      "text/plain": [
       "(10007056, 6)"
      ]
     },
     "execution_count": 9,
     "metadata": {},
     "output_type": "execute_result"
    }
   ],
   "source": [
    "# Identificar las filas con intensidad negativa (lo cual quiere decir sin datos)\n",
    "indexNames = trf1911_filtrado[ trf1911_filtrado['value'] < 0 ].index\n",
    " \n",
    "# Eliminar esas filas del DataFrame\n",
    "trf1911_filtrado.drop(indexNames , inplace=True)\n",
    "\n",
    "trf1911_filtrado.shape"
   ]
  },
  {
   "cell_type": "code",
   "execution_count": 10,
   "metadata": {},
   "outputs": [
    {
     "data": {
      "text/html": [
       "<div>\n",
       "<style scoped>\n",
       "    .dataframe tbody tr th:only-of-type {\n",
       "        vertical-align: middle;\n",
       "    }\n",
       "\n",
       "    .dataframe tbody tr th {\n",
       "        vertical-align: top;\n",
       "    }\n",
       "\n",
       "    .dataframe thead th {\n",
       "        text-align: right;\n",
       "    }\n",
       "</style>\n",
       "<table border=\"1\" class=\"dataframe\">\n",
       "  <thead>\n",
       "    <tr style=\"text-align: right;\">\n",
       "      <th></th>\n",
       "      <th>station_id</th>\n",
       "      <th>day_id</th>\n",
       "      <th>time_id</th>\n",
       "      <th>magnitud_id</th>\n",
       "      <th>value</th>\n",
       "    </tr>\n",
       "  </thead>\n",
       "  <tbody>\n",
       "    <tr>\n",
       "      <td>0</td>\n",
       "      <td>3395</td>\n",
       "      <td>20191101</td>\n",
       "      <td>0</td>\n",
       "      <td>52</td>\n",
       "      <td>919</td>\n",
       "    </tr>\n",
       "    <tr>\n",
       "      <td>1</td>\n",
       "      <td>3395</td>\n",
       "      <td>20191101</td>\n",
       "      <td>1</td>\n",
       "      <td>52</td>\n",
       "      <td>757</td>\n",
       "    </tr>\n",
       "    <tr>\n",
       "      <td>2</td>\n",
       "      <td>3395</td>\n",
       "      <td>20191101</td>\n",
       "      <td>2</td>\n",
       "      <td>52</td>\n",
       "      <td>651</td>\n",
       "    </tr>\n",
       "    <tr>\n",
       "      <td>3</td>\n",
       "      <td>3395</td>\n",
       "      <td>20191101</td>\n",
       "      <td>3</td>\n",
       "      <td>52</td>\n",
       "      <td>493</td>\n",
       "    </tr>\n",
       "    <tr>\n",
       "      <td>4</td>\n",
       "      <td>3395</td>\n",
       "      <td>20191101</td>\n",
       "      <td>4</td>\n",
       "      <td>52</td>\n",
       "      <td>518</td>\n",
       "    </tr>\n",
       "  </tbody>\n",
       "</table>\n",
       "</div>"
      ],
      "text/plain": [
       "   station_id    day_id  time_id  magnitud_id  value\n",
       "0        3395  20191101        0           52    919\n",
       "1        3395  20191101        1           52    757\n",
       "2        3395  20191101        2           52    651\n",
       "3        3395  20191101        3           52    493\n",
       "4        3395  20191101        4           52    518"
      ]
     },
     "execution_count": 10,
     "metadata": {},
     "output_type": "execute_result"
    }
   ],
   "source": [
    "#Agrupar por horas sumando las intensidades\n",
    "trf1911_filtrado_horas = trf1911_filtrado.groupby(['station_id','day_id','time_id','magnitud_id'])[\"value\"].sum().reset_index()\n",
    "\n",
    "#Ordenar columnas para que coincida con el orden de la DB\n",
    "#**Este paso se realiza al pertenecer a un proyecto más grande. No requerido en otro contexto**#\n",
    "trf1911_filtrado_horas = trf1911_filtrado_horas[['station_id','day_id','time_id','magnitud_id','value']]\n",
    "\n",
    "trf1911_filtrado_horas.head()"
   ]
  },
  {
   "cell_type": "code",
   "execution_count": 12,
   "metadata": {},
   "outputs": [
    {
     "data": {
      "text/plain": [
       "(2536870, 5)"
      ]
     },
     "execution_count": 12,
     "metadata": {},
     "output_type": "execute_result"
    }
   ],
   "source": [
    "#Dimensiones: 2.5M filas, 5 columnas\n",
    "trf1911_filtrado_horas.shape"
   ]
  },
  {
   "cell_type": "markdown",
   "metadata": {},
   "source": [
    "### Descargar csv con el formato actual"
   ]
  },
  {
   "cell_type": "code",
   "execution_count": 13,
   "metadata": {},
   "outputs": [],
   "source": [
    "trf1911_filtrado_horas.to_csv(r'trf1911_filtrado.csv', index=False, sep = \";\", encoding='utf-8')\n",
    "\n",
    "###Peso: 60.9MB###"
   ]
  },
  {
   "cell_type": "markdown",
   "metadata": {},
   "source": [
    "### Trabajar con varios documentos de tráfico de Madrid"
   ]
  },
  {
   "cell_type": "markdown",
   "metadata": {},
   "source": [
    "De cara a realizar una comparativa en un eje temporal determinado se puede definir un método con los pasos propuestos o ejectuar los mismos para cada uno de los archivos y concaternarlos haciendo uso de `.append`.\n",
    "De nuevo se realizaría `.to_csv` para evitar correr el código descrito en este documento en más de una ocasión dados los tiempos de ejecución"
   ]
  },
  {
   "cell_type": "markdown",
   "metadata": {},
   "source": [
    "## Conclusión\n",
    "Ejecutando este código se consigue obtener un _.csv_ de un tamaño 10 veces menor que el original. \n",
    "Con ello se consigue un uso más fluido de los datos facilitando el análisis de los mismos"
   ]
  },
  {
   "cell_type": "code",
   "execution_count": null,
   "metadata": {},
   "outputs": [],
   "source": []
  }
 ],
 "metadata": {
  "kernelspec": {
   "display_name": "Python 3",
   "language": "python",
   "name": "python3"
  },
  "language_info": {
   "codemirror_mode": {
    "name": "ipython",
    "version": 3
   },
   "file_extension": ".py",
   "mimetype": "text/x-python",
   "name": "python",
   "nbconvert_exporter": "python",
   "pygments_lexer": "ipython3",
   "version": "3.7.4"
  }
 },
 "nbformat": 4,
 "nbformat_minor": 2
}
